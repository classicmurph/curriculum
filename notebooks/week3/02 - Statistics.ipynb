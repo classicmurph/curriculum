{
 "metadata": {
  "name": "",
  "signature": "sha256:35bb5bee2638c736ed757fe755c1c635dbd1b7bec3ee99a5d2453a656afaf068"
 },
 "nbformat": 3,
 "nbformat_minor": 0,
 "worksheets": [
  {
   "cells": [
    {
     "cell_type": "code",
     "collapsed": false,
     "input": [
      "import statistics as st\n",
      "import random"
     ],
     "language": "python",
     "metadata": {},
     "outputs": [],
     "prompt_number": 2
    },
    {
     "cell_type": "markdown",
     "metadata": {},
     "source": [
      "# Things we need to know\n",
      "\n",
      "* mean\n",
      "* median\n",
      "* mode\n",
      "* variance\n",
      "* standard deviation\n",
      "    * population standard deviation\n",
      "    * sample standard deviation"
     ]
    },
    {
     "cell_type": "heading",
     "level": 1,
     "metadata": {},
     "source": [
      "Mean, median, and mode"
     ]
    },
    {
     "cell_type": "markdown",
     "metadata": {},
     "source": [
      "The _mean_ is the average of a collection. It is sometimes called mu or $\\mu$.\n",
      "\n",
      "The _median_ is the middle number or average of the two middle numbers in a collection.\n",
      "\n",
      "The _mode_ is the most frequent number in a collection."
     ]
    },
    {
     "cell_type": "code",
     "collapsed": false,
     "input": [
      "def repeat(n, fn):\n",
      "    return [fn() for _ in range(n)]"
     ],
     "language": "python",
     "metadata": {},
     "outputs": [],
     "prompt_number": 3
    },
    {
     "cell_type": "code",
     "collapsed": false,
     "input": [
      "nums = repeat(40, lambda: random.randint(1, 100))\n",
      "print(sorted(nums))"
     ],
     "language": "python",
     "metadata": {},
     "outputs": [
      {
       "output_type": "stream",
       "stream": "stdout",
       "text": [
        "[1, 6, 10, 12, 20, 21, 21, 24, 29, 30, 31, 31, 35, 36, 36, 36, 40, 40, 47, 49, 55, 56, 59, 60, 65, 72, 73, 74, 76, 76, 77, 80, 82, 82, 83, 84, 84, 88, 99, 99]\n"
       ]
      }
     ],
     "prompt_number": 4
    },
    {
     "cell_type": "code",
     "collapsed": false,
     "input": [
      "st.mean(nums)"
     ],
     "language": "python",
     "metadata": {},
     "outputs": [
      {
       "metadata": {},
       "output_type": "pyout",
       "prompt_number": 5,
       "text": [
        "51.975"
       ]
      }
     ],
     "prompt_number": 5
    },
    {
     "cell_type": "code",
     "collapsed": false,
     "input": [
      "st.median(nums)"
     ],
     "language": "python",
     "metadata": {},
     "outputs": [
      {
       "metadata": {},
       "output_type": "pyout",
       "prompt_number": 6,
       "text": [
        "52.0"
       ]
      }
     ],
     "prompt_number": 6
    },
    {
     "cell_type": "code",
     "collapsed": false,
     "input": [
      "st.mode(nums)"
     ],
     "language": "python",
     "metadata": {},
     "outputs": [
      {
       "metadata": {},
       "output_type": "pyout",
       "prompt_number": 7,
       "text": [
        "36"
       ]
      }
     ],
     "prompt_number": 7
    },
    {
     "cell_type": "markdown",
     "metadata": {},
     "source": [
      "For a uniform distribution of numbers, the mean and median will likely be the same."
     ]
    },
    {
     "cell_type": "heading",
     "level": 1,
     "metadata": {},
     "source": [
      "Variance and standard deviation"
     ]
    },
    {
     "cell_type": "markdown",
     "metadata": {},
     "source": [
      "The standard deviation (sometimes called sigma or $\\sigma$) is a measurement of how spread out the numbers in a distribution are, but to calculate it, we need to know the _variance_.\n",
      "\n",
      "The variance is the average of the squared differences from the mean.\n",
      "\n",
      "Let's take some lifespans of cats to figure this out."
     ]
    },
    {
     "cell_type": "code",
     "collapsed": false,
     "input": [
      "lifespans = [19, 16, 15, 10, 17, 19, 13, 10, 17, 11]"
     ],
     "language": "python",
     "metadata": {},
     "outputs": [],
     "prompt_number": 24
    },
    {
     "cell_type": "code",
     "collapsed": false,
     "input": [
      "mean_lifespan = st.mean(lifespans)\n",
      "mean_lifespan"
     ],
     "language": "python",
     "metadata": {},
     "outputs": [
      {
       "metadata": {},
       "output_type": "pyout",
       "prompt_number": 26,
       "text": [
        "14.7"
       ]
      }
     ],
     "prompt_number": 26
    },
    {
     "cell_type": "code",
     "collapsed": false,
     "input": [
      "differences_from_mean = [lifespan - mean_lifespan for lifespan in lifespans]\n",
      "print(differences_from_mean)"
     ],
     "language": "python",
     "metadata": {},
     "outputs": [
      {
       "output_type": "stream",
       "stream": "stdout",
       "text": [
        "[4.300000000000001, 1.3000000000000007, 0.3000000000000007, -4.699999999999999, 2.3000000000000007, 4.300000000000001, -1.6999999999999993, -4.699999999999999, 2.3000000000000007, -3.6999999999999993]\n"
       ]
      }
     ],
     "prompt_number": 30
    },
    {
     "cell_type": "code",
     "collapsed": false,
     "input": [
      "squared_differences = [diff * diff for diff in differences_from_mean]\n",
      "print(squared_differences)"
     ],
     "language": "python",
     "metadata": {},
     "outputs": [
      {
       "output_type": "stream",
       "stream": "stdout",
       "text": [
        "[18.490000000000006, 1.690000000000002, 0.09000000000000043, 22.089999999999993, 5.290000000000004, 18.490000000000006, 2.8899999999999975, 22.089999999999993, 5.290000000000004, 13.689999999999994]\n"
       ]
      }
     ],
     "prompt_number": 31
    },
    {
     "cell_type": "code",
     "collapsed": false,
     "input": [
      "variance = st.mean(squared_differences)\n",
      "variance"
     ],
     "language": "python",
     "metadata": {},
     "outputs": [
      {
       "metadata": {},
       "output_type": "pyout",
       "prompt_number": 33,
       "text": [
        "11.01"
       ]
      }
     ],
     "prompt_number": 33
    },
    {
     "cell_type": "markdown",
     "metadata": {},
     "source": [
      "The standard deviation is the square root of the variance."
     ]
    },
    {
     "cell_type": "code",
     "collapsed": false,
     "input": [
      "standard_deviation = pow(variance, 0.5)\n",
      "standard_deviation"
     ],
     "language": "python",
     "metadata": {},
     "outputs": [
      {
       "metadata": {},
       "output_type": "pyout",
       "prompt_number": 35,
       "text": [
        "3.3181320046074116"
       ]
      }
     ],
     "prompt_number": 35
    },
    {
     "cell_type": "markdown",
     "metadata": {},
     "source": [
      "Let's see if that matches what the `statistics` module gives us."
     ]
    },
    {
     "cell_type": "code",
     "collapsed": false,
     "input": [
      "st.pstdev(lifespans)"
     ],
     "language": "python",
     "metadata": {},
     "outputs": [
      {
       "metadata": {},
       "output_type": "pyout",
       "prompt_number": 36,
       "text": [
        "3.3181320046074116"
       ]
      }
     ],
     "prompt_number": 36
    },
    {
     "cell_type": "markdown",
     "metadata": {},
     "source": [
      "Great! But...\n",
      "\n",
      "## Population standard deviation vs sample standard deviation\n",
      "\n",
      "What we have is the standard deviation in lifespan for this group of cats. If we want to extrapolate from that for the standard deviation in the whole population of cats, we do it a little differently. When calculating variance, instead of dividing by _n_, we divide by _n - 1_."
     ]
    },
    {
     "cell_type": "code",
     "collapsed": false,
     "input": [
      "sample_variance = sum(squared_differences) / (len(squared_differences) - 1)\n",
      "sample_standard_deviation = pow(sample_variance, 0.5)\n",
      "print(sample_standard_deviation)"
     ],
     "language": "python",
     "metadata": {},
     "outputs": [
      {
       "output_type": "stream",
       "stream": "stdout",
       "text": [
        "3.497618237219913\n"
       ]
      }
     ],
     "prompt_number": 38
    },
    {
     "cell_type": "markdown",
     "metadata": {},
     "source": [
      "In the `statistics` module, this is accounted for by the `stdev` function (sample standard deviation) vs the `pstdev` function (population standard deviation)."
     ]
    },
    {
     "cell_type": "code",
     "collapsed": false,
     "input": [
      "st.stdev(lifespans)"
     ],
     "language": "python",
     "metadata": {},
     "outputs": [
      {
       "metadata": {},
       "output_type": "pyout",
       "prompt_number": 39,
       "text": [
        "3.497618237219913"
       ]
      }
     ],
     "prompt_number": 39
    },
    {
     "cell_type": "heading",
     "level": 2,
     "metadata": {},
     "source": [
      "What does the standard deviation really mean?"
     ]
    },
    {
     "cell_type": "markdown",
     "metadata": {},
     "source": [
      "When you look at your data, ~68% should fall within 1 standard deviation of the mean. ~95% should fall within 2 standard deviations, and ~99.7% should fall within 3 standard deviations. You may hear this called the _68-95-99 rule_."
     ]
    },
    {
     "cell_type": "heading",
     "level": 1,
     "metadata": {},
     "source": [
      "Further reading"
     ]
    },
    {
     "cell_type": "markdown",
     "metadata": {},
     "source": [
      "* [Math is Fun - Statistics](http://www.mathsisfun.com/data/index.html)\n",
      "* [Robert Niles' Statistics Guide](http://www.robertniles.com/stats/)"
     ]
    }
   ],
   "metadata": {}
  }
 ]
}