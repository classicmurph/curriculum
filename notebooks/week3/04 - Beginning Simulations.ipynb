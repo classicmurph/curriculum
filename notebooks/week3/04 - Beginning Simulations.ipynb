{
 "metadata": {
  "name": "",
  "signature": "sha256:1a0879ef1345ced3a111a567c95f2b45282e5ef53c2ac3e2f1842badb8099c8d"
 },
 "nbformat": 3,
 "nbformat_minor": 0,
 "worksheets": [
  {
   "cells": [
    {
     "cell_type": "code",
     "collapsed": false,
     "input": [
      "import random\n",
      "import matplotlib.pyplot as plt\n",
      "import seaborn as sb\n",
      "import statistics as st\n",
      "import math"
     ],
     "language": "python",
     "metadata": {},
     "outputs": [],
     "prompt_number": 2
    },
    {
     "cell_type": "code",
     "collapsed": false,
     "input": [
      "def roll_die():\n",
      "    return random.randint(1, 6)\n",
      "\n",
      "def roll_pos_neg():\n",
      "    \"\"\"Roll one positive and one negative die and return their sum.\"\"\"\n",
      "    return roll_die() - roll_die()"
     ],
     "language": "python",
     "metadata": {},
     "outputs": [],
     "prompt_number": 10
    },
    {
     "cell_type": "code",
     "collapsed": false,
     "input": [
      "def roll_2_dice():\n",
      "    return roll_die() + roll_die()"
     ],
     "language": "python",
     "metadata": {},
     "outputs": [],
     "prompt_number": 11
    },
    {
     "cell_type": "code",
     "collapsed": false,
     "input": [
      "def roll_n_dice(n=1):\n",
      "    return sum(roll_die() for _ in range(n))"
     ],
     "language": "python",
     "metadata": {},
     "outputs": [],
     "prompt_number": 12
    },
    {
     "cell_type": "code",
     "collapsed": false,
     "input": [
      "roll_n_dice(3)"
     ],
     "language": "python",
     "metadata": {},
     "outputs": [
      {
       "metadata": {},
       "output_type": "pyout",
       "prompt_number": 23,
       "text": [
        "14"
       ]
      }
     ],
     "prompt_number": 23
    },
    {
     "cell_type": "code",
     "collapsed": false,
     "input": [
      "target_num = 11\n",
      "\n",
      "def trial_roll(target, num_dice, num_trials=1000):\n",
      "    rolls = [roll_n_dice(num_dice) for _ in range(num_trials)]\n",
      "    successes = len([roll for roll in rolls if roll <= target_num])\n",
      "    return successes / num_trials\n",
      "\n",
      "print(\"Chance on 2 dice:\", trial_roll(11, 2))\n",
      "print(\"Chance on 3 dice:\", trial_roll(11, 3))\n",
      "print(\"Chance on 4 dice:\", trial_roll(11, 4))\n",
      "print(\"Chance on 5 dice:\", trial_roll(11, 5))"
     ],
     "language": "python",
     "metadata": {},
     "outputs": [
      {
       "output_type": "stream",
       "stream": "stdout",
       "text": [
        "Chance on 2 dice: 0.987\n",
        "Chance on 3 dice: 0.654\n",
        "Chance on 4 dice: 0.242\n",
        "Chance on 5 dice: 0.061\n"
       ]
      }
     ],
     "prompt_number": 25
    },
    {
     "cell_type": "code",
     "collapsed": false,
     "input": [
      "print(\"Chance on 2 dice:\", trial_roll(11, 2))\n",
      "print(\"Chance on 3 dice:\", trial_roll(11, 3))\n",
      "print(\"Chance on 4 dice:\", trial_roll(11, 4))\n",
      "print(\"Chance on 5 dice:\", trial_roll(11, 5))"
     ],
     "language": "python",
     "metadata": {},
     "outputs": [
      {
       "output_type": "stream",
       "stream": "stdout",
       "text": [
        "Chance on 2 dice: 0.98\n",
        "Chance on 3 dice: 0.636\n",
        "Chance on 4 dice: 0.242\n",
        "Chance on 5 dice: 0.067\n"
       ]
      }
     ],
     "prompt_number": 26
    },
    {
     "cell_type": "code",
     "collapsed": false,
     "input": [
      "print(\"Chance on 2 dice:\", trial_roll(11, 2, 100000))\n",
      "print(\"Chance on 3 dice:\", trial_roll(11, 3, 100000))\n",
      "print(\"Chance on 4 dice:\", trial_roll(11, 4, 100000))\n",
      "print(\"Chance on 5 dice:\", trial_roll(11, 5, 100000))"
     ],
     "language": "python",
     "metadata": {},
     "outputs": [
      {
       "output_type": "stream",
       "stream": "stdout",
       "text": [
        "Chance on 2 dice: 0.9729\n",
        "Chance on 3 dice:"
       ]
      },
      {
       "output_type": "stream",
       "stream": "stdout",
       "text": [
        " 0.62764\n",
        "Chance on 4 dice:"
       ]
      },
      {
       "output_type": "stream",
       "stream": "stdout",
       "text": [
        " 0.24092\n",
        "Chance on 5 dice:"
       ]
      },
      {
       "output_type": "stream",
       "stream": "stdout",
       "text": [
        " 0.0589\n"
       ]
      }
     ],
     "prompt_number": 30
    },
    {
     "cell_type": "code",
     "collapsed": false,
     "input": [
      "num_customers = lambda: int(random.gauss(4, 2))\n",
      "time_at_atm = lambda: math.fabs(random.gauss(0, 2)) + 1\n",
      "\n",
      "def sample_atm_time():\n",
      "    return sum(time_at_atm() for _ in range(num_customers()))"
     ],
     "language": "python",
     "metadata": {},
     "outputs": [],
     "prompt_number": 44
    },
    {
     "cell_type": "code",
     "collapsed": false,
     "input": [
      "def atm_trials(num_trials=1000):\n",
      "    return [sample_atm_time() for _ in range(num_trials)]"
     ],
     "language": "python",
     "metadata": {},
     "outputs": [],
     "prompt_number": 45
    },
    {
     "cell_type": "code",
     "collapsed": false,
     "input": [
      "trials = atm_trials()"
     ],
     "language": "python",
     "metadata": {},
     "outputs": [],
     "prompt_number": 41
    },
    {
     "cell_type": "code",
     "collapsed": false,
     "input": [
      "st.mean(trials)"
     ],
     "language": "python",
     "metadata": {},
     "outputs": [
      {
       "metadata": {},
       "output_type": "pyout",
       "prompt_number": 42,
       "text": [
        "9.349178421277875"
       ]
      }
     ],
     "prompt_number": 42
    },
    {
     "cell_type": "code",
     "collapsed": false,
     "input": [
      "st.pstdev(trials)"
     ],
     "language": "python",
     "metadata": {},
     "outputs": [
      {
       "metadata": {},
       "output_type": "pyout",
       "prompt_number": 43,
       "text": [
        "5.48683951718374"
       ]
      }
     ],
     "prompt_number": 43
    },
    {
     "cell_type": "code",
     "collapsed": false,
     "input": [],
     "language": "python",
     "metadata": {},
     "outputs": []
    }
   ],
   "metadata": {}
  }
 ]
}