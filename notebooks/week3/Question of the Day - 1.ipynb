{
 "metadata": {
  "name": "",
  "signature": "sha256:672e13514e7503cef1988775d7d56088ddfaa7880e3bdb7fabf45f616a7c9b9e"
 },
 "nbformat": 3,
 "nbformat_minor": 0,
 "worksheets": [
  {
   "cells": [
    {
     "cell_type": "code",
     "collapsed": false,
     "input": [
      "dice_permutations = [(d1, d2, d3, d4, d5, d6)\n",
      "                     for d1 in range(1, 7)\n",
      "                     for d2 in range(1, 7)\n",
      "                     for d3 in range(1, 7)\n",
      "                     for d4 in range(1, 7)\n",
      "                     for d5 in range(1, 7)\n",
      "                     for d6 in range(1, 7)]"
     ],
     "language": "python",
     "metadata": {},
     "outputs": [],
     "prompt_number": 1
    },
    {
     "cell_type": "code",
     "collapsed": false,
     "input": [
      "len(dice_permutations)"
     ],
     "language": "python",
     "metadata": {},
     "outputs": [
      {
       "metadata": {},
       "output_type": "pyout",
       "prompt_number": 2,
       "text": [
        "46656"
       ]
      }
     ],
     "prompt_number": 2
    },
    {
     "cell_type": "code",
     "collapsed": false,
     "input": [
      "qualifying_permutations = [dice for dice in dice_permutations if sum(dice) >= 21]"
     ],
     "language": "python",
     "metadata": {},
     "outputs": [],
     "prompt_number": 4
    },
    {
     "cell_type": "code",
     "collapsed": false,
     "input": [
      "len(qualifying_permutations) / len(dice_permutations) * 100"
     ],
     "language": "python",
     "metadata": {},
     "outputs": [
      {
       "metadata": {},
       "output_type": "pyout",
       "prompt_number": 6,
       "text": [
        "54.64248971193416"
       ]
      }
     ],
     "prompt_number": 6
    },
    {
     "cell_type": "code",
     "collapsed": false,
     "input": [
      "import random\n",
      "\n",
      "def roll_dice(num=6):\n",
      "    dice = []\n",
      "    for _ in range(num):\n",
      "        dice.append(random.randint(1, 6))\n",
      "    return dice"
     ],
     "language": "python",
     "metadata": {},
     "outputs": [],
     "prompt_number": 7
    },
    {
     "cell_type": "code",
     "collapsed": false,
     "input": [
      "dice_rolls = [roll_dice() for _ in range(10000)]"
     ],
     "language": "python",
     "metadata": {},
     "outputs": [],
     "prompt_number": 10
    },
    {
     "cell_type": "code",
     "collapsed": false,
     "input": [
      "qualifying_rolls = [dice for dice in dice_rolls if sum(dice) >= 21]"
     ],
     "language": "python",
     "metadata": {},
     "outputs": [],
     "prompt_number": 11
    },
    {
     "cell_type": "code",
     "collapsed": false,
     "input": [
      "len(qualifying_rolls) / len(dice_rolls) * 100"
     ],
     "language": "python",
     "metadata": {},
     "outputs": [
      {
       "metadata": {},
       "output_type": "pyout",
       "prompt_number": 12,
       "text": [
        "54.55"
       ]
      }
     ],
     "prompt_number": 12
    },
    {
     "cell_type": "code",
     "collapsed": false,
     "input": [],
     "language": "python",
     "metadata": {},
     "outputs": []
    }
   ],
   "metadata": {}
  }
 ]
}