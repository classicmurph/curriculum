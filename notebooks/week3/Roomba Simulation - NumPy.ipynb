{
 "metadata": {
  "name": "",
  "signature": "sha256:f866e2a218ee0330c9a109aecfaa7fdcc73366603c32f97fcc70967840c148e2"
 },
 "nbformat": 3,
 "nbformat_minor": 0,
 "worksheets": [
  {
   "cells": [
    {
     "cell_type": "code",
     "collapsed": false,
     "input": [
      "import math\n",
      "import random\n",
      "import matplotlib.pyplot as plt\n",
      "import statistics as st\n",
      "import numpy as np"
     ],
     "language": "python",
     "metadata": {},
     "outputs": [],
     "prompt_number": 9
    },
    {
     "cell_type": "code",
     "collapsed": false,
     "input": [
      "%matplotlib inline"
     ],
     "language": "python",
     "metadata": {},
     "outputs": [],
     "prompt_number": 10
    },
    {
     "cell_type": "code",
     "collapsed": false,
     "input": [
      "def angular_motion(degrees, speed=1):\n",
      "    \"\"\"Given a number of degrees and a speed, return the relative x and y movements.\"\"\"\n",
      "    radians = math.radians(degrees)\n",
      "    x_motion = math.cos(radians) * speed\n",
      "    y_motion = math.sin(radians) * speed\n",
      "    return x_motion, y_motion"
     ],
     "language": "python",
     "metadata": {},
     "outputs": [],
     "prompt_number": 11
    },
    {
     "cell_type": "code",
     "collapsed": false,
     "input": [
      "assumed = math.sqrt(0.5)\n",
      "x, y = angular_motion(45)\n",
      "print(assumed)\n",
      "print(x)\n",
      "print(y)"
     ],
     "language": "python",
     "metadata": {},
     "outputs": [
      {
       "output_type": "stream",
       "stream": "stdout",
       "text": [
        "0.7071067811865476\n",
        "0.7071067811865476\n",
        "0.7071067811865475\n"
       ]
      }
     ],
     "prompt_number": 12
    },
    {
     "cell_type": "code",
     "collapsed": false,
     "input": [
      "angular_motion(135)"
     ],
     "language": "python",
     "metadata": {},
     "outputs": [
      {
       "metadata": {},
       "output_type": "pyout",
       "prompt_number": 13,
       "text": [
        "(-0.7071067811865475, 0.7071067811865476)"
       ]
      }
     ],
     "prompt_number": 13
    },
    {
     "cell_type": "code",
     "collapsed": false,
     "input": [
      "class Room:\n",
      "    \"\"\"\n",
      "    Responsibilities:\n",
      "    - width\n",
      "    - height\n",
      "    - keeps track of what squares are clean\n",
      "    \"\"\"\n",
      "    \n",
      "    def __init__(self, width, height):\n",
      "        self.width = width\n",
      "        self.height = height\n",
      "        self.reset()\n",
      "        \n",
      "    def reset(self):\n",
      "        self.clean_squares = np.zeros((self.width, self.height))\n",
      "        \n",
      "    def random_location(self):\n",
      "        x = random.random() * self.width\n",
      "        y = random.random() * self.height\n",
      "        return x, y\n",
      "    \n",
      "    def total_squares(self):\n",
      "        return self.width * self.height\n",
      "    \n",
      "    def in_room(self, x, y):\n",
      "        \"\"\"Check to see if coordinate is in the room.\"\"\"\n",
      "        return 0 <= x < self.width and 0 <= y < self.height\n",
      "    \n",
      "    def clean_square(self, x, y):\n",
      "        if self.in_room(x, y):\n",
      "            self.clean_squares[x, y] = 1\n",
      "    \n",
      "    def percent_clean(self):\n",
      "        return self.clean_squares.sum() / self.total_squares()"
     ],
     "language": "python",
     "metadata": {},
     "outputs": [],
     "prompt_number": 24
    },
    {
     "cell_type": "code",
     "collapsed": false,
     "input": [
      "room = Room(2, 2)\n",
      "room.clean_square(0, 0)\n",
      "print(room.percent_clean())\n",
      "room.clean_square(0, 0)\n",
      "print(room.percent_clean())\n",
      "room.clean_square(0, 1)\n",
      "print(room.percent_clean())\n",
      "room.clean_square(5, 4)\n",
      "print(room.percent_clean())"
     ],
     "language": "python",
     "metadata": {},
     "outputs": [
      {
       "output_type": "stream",
       "stream": "stdout",
       "text": [
        "0.25\n",
        "0.25\n",
        "0.5\n",
        "0.5\n"
       ]
      }
     ],
     "prompt_number": 25
    },
    {
     "cell_type": "code",
     "collapsed": false,
     "input": [
      "class Roomba:\n",
      "    \"\"\"\n",
      "    Responsibilities:\n",
      "    \n",
      "    - know its current angle\n",
      "    - respond to hitting a wall\n",
      "    - give its relative x and y movement\n",
      "    - know its speed\n",
      "    \"\"\"\n",
      "    \n",
      "    def __init__(self, speed=1):\n",
      "        self.angle = None\n",
      "        self.speed = speed\n",
      "        \n",
      "    def move(self):\n",
      "        \"\"\"On trigger, return relative x and y movement.\"\"\"\n",
      "        if self.angle is not None:\n",
      "            return angular_motion(self.angle, self.speed)\n",
      "        \n",
      "    def update_angle(self, angle):\n",
      "        self.angle += angle\n",
      "        self.angle %= 360\n",
      "    \n",
      "    def collide(self):\n",
      "        \"\"\"On trigger, choose a new angle.\"\"\"\n",
      "        self.angle += random.randint(90, 270)\n",
      "        # self.angle = self.angle + random.randint(90, 270)\n",
      "        self.angle %= 360\n",
      "        # self.angle = self.angle % 360"
     ],
     "language": "python",
     "metadata": {},
     "outputs": [],
     "prompt_number": 26
    },
    {
     "cell_type": "code",
     "collapsed": false,
     "input": [
      "class Simulation:\n",
      "    \"\"\"\n",
      "    Responsibilities:\n",
      "    - placing the Roomba\n",
      "    - asking Roomba where it's moving\n",
      "    - updating the room\n",
      "    - iterating over turns\n",
      "    - reporting data\n",
      "    \n",
      "    Collaborators:\n",
      "    - Room\n",
      "    - Roomba\n",
      "    \"\"\"\n",
      "    \n",
      "    def __init__(self, room, roomba):\n",
      "        self.room = room\n",
      "        self.roomba = roomba\n",
      "        self.iterations = 0\n",
      "        \n",
      "        initial_x, initial_y = self.room.random_location()\n",
      "        initial_angle = random.randint(0, 359)\n",
      "\n",
      "        self.current_x = initial_x\n",
      "        self.current_y = initial_y\n",
      "        self.roomba.angle = initial_angle\n",
      "        \n",
      "    \n",
      "    def update_roomba_and_check_for_hit(self, x_move, y_move):\n",
      "        def constrain(min, max, actual):\n",
      "            if actual < min:\n",
      "                return min, True\n",
      "            elif actual > max:\n",
      "                return max, True\n",
      "            else:\n",
      "                return actual, False\n",
      "        \n",
      "        tolerance = 0.1\n",
      "        min_x, min_y = tolerance, tolerance\n",
      "        max_x, max_y = self.room.width - tolerance, self.room.height - tolerance\n",
      "        \n",
      "        x, hit_x = constrain(min_x, max_x, self.current_x + x_move)\n",
      "        y, hit_y = constrain(min_y, max_y, self.current_y + y_move)\n",
      "        \n",
      "        self.current_x = x\n",
      "        self.current_y = y\n",
      "        \n",
      "        return hit_x or hit_y\n",
      "    \n",
      "    \n",
      "    def iterate(self):\n",
      "        did_hit = self.update_roomba_and_check_for_hit(*self.roomba.move())\n",
      "        if did_hit:\n",
      "            self.roomba.collide()\n",
      "        self.room.clean_square(int(self.current_x), int(self.current_y))\n",
      "        self.iterations += 1\n",
      "        \n",
      "    def report(self):\n",
      "        return self.iterations, self.room.percent_clean()\n",
      "        "
     ],
     "language": "python",
     "metadata": {},
     "outputs": [],
     "prompt_number": 27
    },
    {
     "cell_type": "code",
     "collapsed": false,
     "input": [
      "room = Room(15, 20)\n",
      "roomba = Roomba()\n",
      "simulation = Simulation(room, roomba)"
     ],
     "language": "python",
     "metadata": {},
     "outputs": [],
     "prompt_number": 28
    },
    {
     "cell_type": "code",
     "collapsed": false,
     "input": [
      "for _ in range(20):\n",
      "    simulation.iterate()\n",
      "    print(simulation.report())"
     ],
     "language": "python",
     "metadata": {},
     "outputs": [
      {
       "output_type": "stream",
       "stream": "stdout",
       "text": [
        "(1, 0.0033333333333333335)\n",
        "(2, 0.0033333333333333335)\n",
        "(3, 0.0066666666666666671)\n",
        "(4, 0.01)\n",
        "(5, 0.01)\n",
        "(6, 0.01)\n",
        "(7, 0.01)\n",
        "(8, 0.01)\n",
        "(9, 0.013333333333333334)\n",
        "(10, 0.016666666666666666)\n",
        "(11, 0.02)\n",
        "(12, 0.023333333333333334)\n",
        "(13, 0.026666666666666668)\n",
        "(14, 0.029999999999999999)\n",
        "(15, 0.033333333333333333)\n",
        "(16, 0.036666666666666667)\n",
        "(17, 0.040000000000000001)\n",
        "(18, 0.043333333333333335)\n",
        "(19, 0.046666666666666669)\n",
        "(20, 0.050000000000000003)\n"
       ]
      }
     ],
     "prompt_number": 29
    },
    {
     "cell_type": "code",
     "collapsed": false,
     "input": [
      "simulation.room.clean_squares"
     ],
     "language": "python",
     "metadata": {},
     "outputs": [
      {
       "metadata": {},
       "output_type": "pyout",
       "prompt_number": 30,
       "text": [
        "array([[ 0.,  0.,  0.,  0.,  0.,  0.,  0.,  0.,  0.,  0.,  0.,  0.,  0.,\n",
        "         0.,  0.,  0.,  0.,  0.,  0.,  0.],\n",
        "       [ 0.,  0.,  0.,  0.,  0.,  0.,  0.,  0.,  0.,  0.,  0.,  0.,  0.,\n",
        "         0.,  0.,  0.,  0.,  0.,  0.,  0.],\n",
        "       [ 0.,  0.,  0.,  0.,  0.,  0.,  0.,  0.,  0.,  0.,  0.,  0.,  0.,\n",
        "         0.,  0.,  0.,  0.,  0.,  0.,  0.],\n",
        "       [ 0.,  0.,  0.,  0.,  0.,  0.,  0.,  0.,  0.,  0.,  0.,  0.,  0.,\n",
        "         0.,  0.,  0.,  0.,  0.,  0.,  0.],\n",
        "       [ 0.,  0.,  0.,  0.,  0.,  0.,  0.,  0.,  0.,  0.,  0.,  0.,  0.,\n",
        "         0.,  0.,  0.,  0.,  0.,  0.,  0.],\n",
        "       [ 0.,  0.,  0.,  0.,  0.,  0.,  0.,  0.,  0.,  0.,  0.,  0.,  0.,\n",
        "         0.,  0.,  0.,  0.,  0.,  0.,  1.],\n",
        "       [ 0.,  0.,  0.,  0.,  0.,  0.,  0.,  0.,  0.,  0.,  0.,  0.,  0.,\n",
        "         0.,  0.,  0.,  0.,  0.,  1.,  0.],\n",
        "       [ 0.,  0.,  0.,  0.,  0.,  0.,  0.,  0.,  0.,  0.,  0.,  0.,  0.,\n",
        "         0.,  0.,  0.,  1.,  1.,  0.,  0.],\n",
        "       [ 0.,  0.,  0.,  0.,  0.,  0.,  0.,  0.,  0.,  0.,  0.,  0.,  0.,\n",
        "         0.,  0.,  0.,  1.,  0.,  0.,  0.],\n",
        "       [ 0.,  0.,  0.,  0.,  0.,  0.,  0.,  0.,  0.,  0.,  0.,  0.,  0.,\n",
        "         0.,  1.,  1.,  0.,  0.,  0.,  0.],\n",
        "       [ 0.,  0.,  0.,  0.,  0.,  0.,  0.,  0.,  0.,  0.,  0.,  0.,  0.,\n",
        "         0.,  1.,  0.,  0.,  0.,  0.,  0.],\n",
        "       [ 0.,  0.,  0.,  0.,  0.,  0.,  0.,  0.,  0.,  0.,  0.,  0.,  1.,\n",
        "         1.,  0.,  0.,  0.,  0.,  0.,  0.],\n",
        "       [ 0.,  0.,  0.,  0.,  0.,  0.,  0.,  0.,  0.,  0.,  0.,  1.,  0.,\n",
        "         0.,  0.,  0.,  0.,  0.,  0.,  0.],\n",
        "       [ 0.,  0.,  0.,  0.,  0.,  0.,  0.,  0.,  0.,  0.,  1.,  1.,  0.,\n",
        "         0.,  0.,  0.,  0.,  0.,  0.,  0.],\n",
        "       [ 0.,  0.,  0.,  0.,  0.,  0.,  0.,  0.,  1.,  1.,  0.,  0.,  0.,\n",
        "         0.,  0.,  0.,  0.,  0.,  0.,  0.]])"
       ]
      }
     ],
     "prompt_number": 30
    },
    {
     "cell_type": "code",
     "collapsed": false,
     "input": [
      "room = Room(15, 20)\n",
      "roomba = Roomba()\n",
      "simulation = Simulation(room, roomba)\n",
      "\n",
      "percent_clean = 0\n",
      "while percent_clean < 0.9:\n",
      "    simulation.iterate()\n",
      "    turn, percent_clean = simulation.report()\n",
      "    \n",
      "print(turn)"
     ],
     "language": "python",
     "metadata": {},
     "outputs": [
      {
       "output_type": "stream",
       "stream": "stdout",
       "text": [
        "814\n"
       ]
      }
     ],
     "prompt_number": 31
    },
    {
     "cell_type": "code",
     "collapsed": false,
     "input": [
      "def run_simulation_by_percentage(room, roomba):\n",
      "    simulation = Simulation(room, roomba)\n",
      "    \n",
      "    percent_clean = 0\n",
      "    \n",
      "    while percent_clean < 0.5:\n",
      "       simulation.iterate()\n",
      "       turn, percent_clean = simulation.report() \n",
      "        \n",
      "    half_clean = turn\n",
      "    \n",
      "    while percent_clean < 0.9:\n",
      "       simulation.iterate()\n",
      "       turn, percent_clean = simulation.report() \n",
      "        \n",
      "    almost_clean = turn\n",
      "    \n",
      "    while percent_clean < 1.0:\n",
      "       simulation.iterate()\n",
      "       turn, percent_clean = simulation.report() \n",
      "    \n",
      "    clean = turn\n",
      "    \n",
      "    room.reset()\n",
      "    \n",
      "    return half_clean, almost_clean, clean"
     ],
     "language": "python",
     "metadata": {},
     "outputs": [],
     "prompt_number": 32
    },
    {
     "cell_type": "code",
     "collapsed": false,
     "input": [
      "run_simulation_by_percentage(Room(15, 20), Roomba())"
     ],
     "language": "python",
     "metadata": {},
     "outputs": [
      {
       "metadata": {},
       "output_type": "pyout",
       "prompt_number": 33,
       "text": [
        "(226, 854, 2084)"
       ]
      }
     ],
     "prompt_number": 33
    },
    {
     "cell_type": "code",
     "collapsed": false,
     "input": [
      "def run_simulation_by_percentage_trials(room, roomba, trials=100):\n",
      "    trial_results = np.array([run_simulation_by_percentage(room, roomba) for _ in range(trials)])\n",
      "    return trial_results"
     ],
     "language": "python",
     "metadata": {},
     "outputs": [],
     "prompt_number": 37
    },
    {
     "cell_type": "code",
     "collapsed": false,
     "input": [
      "trial_results = run_simulation_by_percentage_trials(Room(15, 20), Roomba(), 100)\n",
      "trial_results"
     ],
     "language": "python",
     "metadata": {},
     "outputs": [
      {
       "metadata": {},
       "output_type": "pyout",
       "prompt_number": 38,
       "text": [
        "array([[ 227,  741, 2018],\n",
        "       [ 236,  765, 1717],\n",
        "       [ 238,  748, 2110],\n",
        "       [ 242,  734, 1530],\n",
        "       [ 230,  670, 2835],\n",
        "       [ 236,  725, 2216],\n",
        "       [ 301,  871, 2624],\n",
        "       [ 263,  858, 2081],\n",
        "       [ 244,  810, 4013],\n",
        "       [ 226,  816, 1849],\n",
        "       [ 228,  707, 1824],\n",
        "       [ 212,  690, 1861],\n",
        "       [ 245,  720, 1661],\n",
        "       [ 215,  774, 1982],\n",
        "       [ 196,  818, 2294],\n",
        "       [ 254,  771, 2127],\n",
        "       [ 230,  739, 2023],\n",
        "       [ 239,  727, 1852],\n",
        "       [ 237,  783, 1895],\n",
        "       [ 254,  658, 2022],\n",
        "       [ 236,  757, 2418],\n",
        "       [ 239,  851, 1639],\n",
        "       [ 243,  706, 2404],\n",
        "       [ 207,  965, 2239],\n",
        "       [ 249,  787, 1733],\n",
        "       [ 234,  970, 2192],\n",
        "       [ 210,  840, 2212],\n",
        "       [ 237,  831, 2201],\n",
        "       [ 277,  925, 2215],\n",
        "       [ 247,  776, 1904],\n",
        "       [ 260,  803, 2367],\n",
        "       [ 247,  718, 1612],\n",
        "       [ 229,  832, 2365],\n",
        "       [ 235,  879, 2032],\n",
        "       [ 248,  857, 2461],\n",
        "       [ 248,  872, 2096],\n",
        "       [ 274,  770, 1687],\n",
        "       [ 231,  794, 1858],\n",
        "       [ 257,  877, 4544],\n",
        "       [ 240,  718, 2425],\n",
        "       [ 269,  741, 2089],\n",
        "       [ 243,  794, 1689],\n",
        "       [ 225,  775, 2140],\n",
        "       [ 248,  899, 2246],\n",
        "       [ 195,  803, 2098],\n",
        "       [ 208,  848, 2690],\n",
        "       [ 219,  733, 2479],\n",
        "       [ 209,  742, 1726],\n",
        "       [ 263,  744, 2429],\n",
        "       [ 244,  803, 1948],\n",
        "       [ 263,  785, 2805],\n",
        "       [ 246,  833, 1842],\n",
        "       [ 256,  764, 1806],\n",
        "       [ 206,  590, 1193],\n",
        "       [ 246,  750, 2538],\n",
        "       [ 270,  810, 2845],\n",
        "       [ 240,  834, 2568],\n",
        "       [ 203,  655, 2597],\n",
        "       [ 242,  808, 2679],\n",
        "       [ 213,  701, 1996],\n",
        "       [ 236,  886, 2845],\n",
        "       [ 246,  821, 1705],\n",
        "       [ 203,  651, 2858],\n",
        "       [ 221,  702, 1675],\n",
        "       [ 230,  766, 2145],\n",
        "       [ 219,  723, 2741],\n",
        "       [ 222,  731, 1843],\n",
        "       [ 219,  751, 2457],\n",
        "       [ 226,  763, 2088],\n",
        "       [ 202,  806, 2493],\n",
        "       [ 208,  758, 1602],\n",
        "       [ 224,  799, 2116],\n",
        "       [ 239,  793, 1816],\n",
        "       [ 223,  752, 1450],\n",
        "       [ 211,  658, 1913],\n",
        "       [ 257,  805, 1955],\n",
        "       [ 239,  843, 2116],\n",
        "       [ 260,  777, 1649],\n",
        "       [ 214,  681, 2650],\n",
        "       [ 280, 1002, 2793],\n",
        "       [ 241,  753, 2169],\n",
        "       [ 233,  718, 1382],\n",
        "       [ 214,  731, 1970],\n",
        "       [ 236,  703, 1942],\n",
        "       [ 216,  771, 2187],\n",
        "       [ 218,  793, 2338],\n",
        "       [ 239,  800, 1819],\n",
        "       [ 238,  805, 1933],\n",
        "       [ 267,  795, 2220],\n",
        "       [ 242,  716, 1865],\n",
        "       [ 215,  746, 1442],\n",
        "       [ 261,  785, 2071],\n",
        "       [ 214,  720, 1797],\n",
        "       [ 303,  793, 2531],\n",
        "       [ 228,  777, 2114],\n",
        "       [ 234,  713, 2433],\n",
        "       [ 235,  684, 2050],\n",
        "       [ 281,  857, 2488],\n",
        "       [ 252,  775, 1960],\n",
        "       [ 253,  778, 2866]])"
       ]
      }
     ],
     "prompt_number": 38
    },
    {
     "cell_type": "code",
     "collapsed": false,
     "input": [
      "plt.boxplot(trial_results)\n",
      "plt.xticks(range(1, 4), [\"50%\", \"90%\", \"100%\"])\n",
      "# plt.yscale(\"log\")\n",
      "plt.show()"
     ],
     "language": "python",
     "metadata": {},
     "outputs": [
      {
       "metadata": {},
       "output_type": "display_data",
       "png": "[encoded data removed]",
       "text": [
        "<matplotlib.figure.Figure at 0x10d066b00>"
       ]
      }
     ],
     "prompt_number": 41
    },
    {
     "cell_type": "code",
     "collapsed": false,
     "input": [
      "plt.hist(trial_results[:,0], bins=20)\n",
      "plt.title(\"Time to 50%\")\n",
      "plt.show()"
     ],
     "language": "python",
     "metadata": {},
     "outputs": [
      {
       "metadata": {},
       "output_type": "display_data",
       "png": "[encoded data removed]",
       "text": [
        "<matplotlib.figure.Figure at 0x10d08df28>"
       ]
      }
     ],
     "prompt_number": 43
    },
    {
     "cell_type": "code",
     "collapsed": false,
     "input": [
      "plt.hist(trial_results[:,1], bins=20)\n",
      "plt.title(\"Time to 90%\")\n",
      "plt.show()"
     ],
     "language": "python",
     "metadata": {},
     "outputs": [
      {
       "metadata": {},
       "output_type": "display_data",
       "png": "[encoded data removed]",
       "text": [
        "<matplotlib.figure.Figure at 0x106d361d0>"
       ]
      }
     ],
     "prompt_number": 20
    },
    {
     "cell_type": "code",
     "collapsed": false,
     "input": [
      "# Mean and stdev for 90%\n",
      "print(trial_results.mean(axis=0)[1])\n",
      "print(trial_results[:,1].mean())\n",
      "print(trial_results[:,1].std())"
     ],
     "language": "python",
     "metadata": {},
     "outputs": [
      {
       "output_type": "stream",
       "stream": "stdout",
       "text": [
        "777.46\n",
        "777.46\n",
        "69.8037849977\n"
       ]
      }
     ],
     "prompt_number": 48
    },
    {
     "cell_type": "code",
     "collapsed": false,
     "input": [
      "class GordonRoomba(Roomba):\n",
      "   def collide(self):\n",
      "        \"\"\"On trigger, choose a new angle.\"\"\"\n",
      "        self.update_angle(random.randint(110, 250))"
     ],
     "language": "python",
     "metadata": {},
     "outputs": [],
     "prompt_number": 49
    },
    {
     "cell_type": "code",
     "collapsed": false,
     "input": [
      "class DanielRoomba(Roomba):\n",
      "    def move(self):\n",
      "        \"\"\"On trigger, return relative x and y movement.\"\"\"\n",
      "        if self.angle is not None:\n",
      "            self.update_angle(5)\n",
      "            return angular_motion(self.angle, self.speed)"
     ],
     "language": "python",
     "metadata": {},
     "outputs": [],
     "prompt_number": 50
    },
    {
     "cell_type": "code",
     "collapsed": false,
     "input": [
      "gordon_results = run_simulation_by_percentage_trials(Room(15, 20), GordonRoomba())\n",
      "print(gordon_results[:,1].mean())\n",
      "print(gordon_results[:,1].std())"
     ],
     "language": "python",
     "metadata": {},
     "outputs": [
      {
       "output_type": "stream",
       "stream": "stdout",
       "text": [
        "791.26\n",
        "76.2941177287\n"
       ]
      }
     ],
     "prompt_number": 51
    },
    {
     "cell_type": "code",
     "collapsed": false,
     "input": [
      "daniel_results = run_simulation_by_percentage_trials(Room(15, 20), DanielRoomba())\n",
      "print(daniel_results[:,1].mean())\n",
      "print(daniel_results[:,1].std())"
     ],
     "language": "python",
     "metadata": {},
     "outputs": [
      {
       "output_type": "stream",
       "stream": "stdout",
       "text": [
        "787.87\n",
        "69.163668931\n"
       ]
      }
     ],
     "prompt_number": 52
    },
    {
     "cell_type": "code",
     "collapsed": false,
     "input": [
      "class ClintonRoomba(Roomba):\n",
      "    def move(self):\n",
      "        \"\"\"On trigger, return relative x and y movement.\"\"\"\n",
      "        if self.angle is not None:\n",
      "            self.update_angle(random.randint(-30, 30))\n",
      "            return angular_motion(self.angle, self.speed)\n",
      "        \n",
      "    def collide(self):\n",
      "        self.update_angle(random.randint(60, 300))\n",
      "        "
     ],
     "language": "python",
     "metadata": {},
     "outputs": [],
     "prompt_number": 54
    },
    {
     "cell_type": "code",
     "collapsed": false,
     "input": [
      "clinton_results = run_simulation_by_percentage_trials(Room(15, 20), ClintonRoomba(speed=1.5))\n",
      "print(clinton_results[:,1].mean())\n",
      "print(clinton_results[:,1].std())"
     ],
     "language": "python",
     "metadata": {},
     "outputs": [
      {
       "output_type": "stream",
       "stream": "stdout",
       "text": [
        "745.97\n",
        "59.3128072173\n"
       ]
      }
     ],
     "prompt_number": 85
    },
    {
     "cell_type": "code",
     "collapsed": false,
     "input": [
      "original = trial_results.mean(axis=0)\n",
      "gordon = gordon_results.mean(axis=0)\n",
      "daniel = daniel_results.mean(axis=0)\n",
      "clinton = clinton_results.mean(axis=0)"
     ],
     "language": "python",
     "metadata": {},
     "outputs": [],
     "prompt_number": 86
    },
    {
     "cell_type": "code",
     "collapsed": false,
     "input": [
      "np.vstack((original, gordon, daniel, clinton))"
     ],
     "language": "python",
     "metadata": {},
     "outputs": [
      {
       "metadata": {},
       "output_type": "pyout",
       "prompt_number": 87,
       "text": [
        "array([[  237.08,   777.46,  2160.28],\n",
        "       [  238.12,   791.26,  2099.4 ],\n",
        "       [  239.94,   787.87,  2105.21],\n",
        "       [  224.43,   745.97,  2098.29]])"
       ]
      }
     ],
     "prompt_number": 87
    },
    {
     "cell_type": "code",
     "collapsed": false,
     "input": [
      "for roomba in (original, gordon, daniel, clinton):\n",
      "    plt.plot(np.array([50, 90, 100]), roomba)\n",
      "plt.legend()\n",
      "plt.show()"
     ],
     "language": "python",
     "metadata": {},
     "outputs": [
      {
       "metadata": {},
       "output_type": "display_data",
       "png": "[encoded data removed]",
       "text": [
        "<matplotlib.figure.Figure at 0x10da8a198>"
       ]
      }
     ],
     "prompt_number": 88
    },
    {
     "cell_type": "code",
     "collapsed": false,
     "input": [],
     "language": "python",
     "metadata": {},
     "outputs": []
    }
   ],
   "metadata": {}
  }
 ]
}