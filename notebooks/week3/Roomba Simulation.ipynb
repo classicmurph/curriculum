{
 "metadata": {
  "name": "",
  "signature": "sha256:cbbd5c8ba73bc3925ae0a52c1b1e81c9252a0c345d563bc41384655352b32a61"
 },
 "nbformat": 3,
 "nbformat_minor": 0,
 "worksheets": [
  {
   "cells": [
    {
     "cell_type": "code",
     "collapsed": false,
     "input": [
      "import math\n",
      "import random\n",
      "import matplotlib.pyplot as plt\n",
      "import statistics as st"
     ],
     "language": "python",
     "metadata": {},
     "outputs": [],
     "prompt_number": 1
    },
    {
     "cell_type": "code",
     "collapsed": false,
     "input": [
      "%matplotlib inline"
     ],
     "language": "python",
     "metadata": {},
     "outputs": [],
     "prompt_number": 2
    },
    {
     "cell_type": "code",
     "collapsed": false,
     "input": [
      "help(math.sin)"
     ],
     "language": "python",
     "metadata": {},
     "outputs": [
      {
       "output_type": "stream",
       "stream": "stdout",
       "text": [
        "Help on built-in function sin in module math:\n",
        "\n",
        "sin(...)\n",
        "    sin(x)\n",
        "    \n",
        "    Return the sine of x (measured in radians).\n",
        "\n"
       ]
      }
     ],
     "prompt_number": 3
    },
    {
     "cell_type": "code",
     "collapsed": false,
     "input": [
      "def angular_motion(degrees, speed=1):\n",
      "    radians = math.radians(degrees)\n",
      "    x_motion = math.cos(radians) * speed\n",
      "    y_motion = math.sin(radians) * speed\n",
      "    return x_motion, y_motion"
     ],
     "language": "python",
     "metadata": {},
     "outputs": [],
     "prompt_number": 4
    },
    {
     "cell_type": "code",
     "collapsed": false,
     "input": [
      "assumed = math.sqrt(0.5)\n",
      "x, y = angular_motion(45)\n",
      "print(assumed)\n",
      "print(x)\n",
      "print(y)"
     ],
     "language": "python",
     "metadata": {},
     "outputs": [
      {
       "output_type": "stream",
       "stream": "stdout",
       "text": [
        "0.7071067811865476\n",
        "0.7071067811865476\n",
        "0.7071067811865475\n"
       ]
      }
     ],
     "prompt_number": 5
    },
    {
     "cell_type": "code",
     "collapsed": false,
     "input": [
      "angular_motion(135)"
     ],
     "language": "python",
     "metadata": {},
     "outputs": [
      {
       "metadata": {},
       "output_type": "pyout",
       "prompt_number": 6,
       "text": [
        "(-0.7071067811865475, 0.7071067811865476)"
       ]
      }
     ],
     "prompt_number": 6
    },
    {
     "cell_type": "code",
     "collapsed": false,
     "input": [
      "class Room:\n",
      "    \"\"\"\n",
      "    Responsibilities:\n",
      "    - width\n",
      "    - height\n",
      "    - keeps track of what squares are clean\n",
      "    \"\"\"\n",
      "    \n",
      "    def __init__(self, width, height):\n",
      "        self.width = width\n",
      "        self.height = height\n",
      "        self.clean_squares = set()\n",
      "        \n",
      "    def reset(self):\n",
      "        self.clean_squares = set()\n",
      "        \n",
      "    def random_location(self):\n",
      "        x = random.random() * self.width\n",
      "        y = random.random() * self.height\n",
      "        return x, y\n",
      "    \n",
      "    def total_squares(self):\n",
      "        return self.width * self.height\n",
      "    \n",
      "    def in_room(self, x, y):\n",
      "        \"\"\"Check to see if coordinate is in the room.\"\"\"\n",
      "        return 0 <= x < self.width and 0 <= y < self.height\n",
      "    \n",
      "    def clean_square(self, x, y):\n",
      "        if self.in_room(x, y):\n",
      "            self.clean_squares.add((x, y))\n",
      "    \n",
      "    def percent_clean(self):\n",
      "        return len(self.clean_squares) / self.total_squares()"
     ],
     "language": "python",
     "metadata": {},
     "outputs": [],
     "prompt_number": 7
    },
    {
     "cell_type": "code",
     "collapsed": false,
     "input": [
      "room = Room(2, 2)\n",
      "room.clean_square(0, 0)\n",
      "print(room.percent_clean())\n",
      "room.clean_square(0, 0)\n",
      "print(room.percent_clean())\n",
      "room.clean_square(0, 1)\n",
      "print(room.percent_clean())\n",
      "room.clean_square(5, 4)\n",
      "print(room.percent_clean())"
     ],
     "language": "python",
     "metadata": {},
     "outputs": [
      {
       "output_type": "stream",
       "stream": "stdout",
       "text": [
        "0.25\n",
        "0.25\n",
        "0.5\n",
        "0.5\n"
       ]
      }
     ],
     "prompt_number": 8
    },
    {
     "cell_type": "code",
     "collapsed": false,
     "input": [
      "class Roomba:\n",
      "    \"\"\"\n",
      "    Responsibilities:\n",
      "    \n",
      "    - know its current angle\n",
      "    - respond to hitting a wall\n",
      "    - give its relative x and y movement\n",
      "    - know its speed\n",
      "    \"\"\"\n",
      "    \n",
      "    def __init__(self, speed=1):\n",
      "        self.angle = None\n",
      "        self.speed = speed\n",
      "        \n",
      "    def move(self):\n",
      "        \"\"\"On trigger, return relative x and y movement.\"\"\"\n",
      "        if self.angle is not None:\n",
      "            return angular_motion(self.angle, self.speed)\n",
      "        \n",
      "    def update_angle(self, angle):\n",
      "        self.angle += angle\n",
      "        self.angle %= 360\n",
      "    \n",
      "    def collide(self):\n",
      "        \"\"\"On trigger, choose a new angle.\"\"\"\n",
      "        self.angle += random.randint(90, 270)\n",
      "        # self.angle = self.angle + random.randint(90, 270)\n",
      "        self.angle %= 360\n",
      "        # self.angle = self.angle % 360"
     ],
     "language": "python",
     "metadata": {},
     "outputs": [],
     "prompt_number": 9
    },
    {
     "cell_type": "code",
     "collapsed": false,
     "input": [
      "class Simulation:\n",
      "    \"\"\"\n",
      "    Responsibilities:\n",
      "    - placing the Roomba\n",
      "    - asking Roomba where it's moving\n",
      "    - updating the room\n",
      "    - iterating over turns\n",
      "    - reporting data\n",
      "    \n",
      "    Collaborators:\n",
      "    - Room\n",
      "    - Roomba\n",
      "    \"\"\"\n",
      "    \n",
      "    def __init__(self, room, roomba):\n",
      "        self.room = room\n",
      "        self.roomba = roomba\n",
      "        self.iterations = 0\n",
      "        \n",
      "        initial_x, initial_y = self.room.random_location()\n",
      "        initial_angle = random.randint(0, 359)\n",
      "\n",
      "        self.current_x = initial_x\n",
      "        self.current_y = initial_y\n",
      "        self.roomba.angle = initial_angle\n",
      "        \n",
      "    \n",
      "    def update_roomba_and_check_for_hit(self, x_move, y_move):\n",
      "        def constrain(min, max, actual):\n",
      "            if actual < min:\n",
      "                return min, True\n",
      "            elif actual > max:\n",
      "                return max, True\n",
      "            else:\n",
      "                return actual, False\n",
      "        \n",
      "        tolerance = 0.1\n",
      "        min_x, min_y = tolerance, tolerance\n",
      "        max_x, max_y = self.room.width - tolerance, self.room.height - tolerance\n",
      "        \n",
      "        x, hit_x = constrain(min_x, max_x, self.current_x + x_move)\n",
      "        y, hit_y = constrain(min_y, max_y, self.current_y + y_move)\n",
      "        \n",
      "        self.current_x = x\n",
      "        self.current_y = y\n",
      "        \n",
      "        return hit_x or hit_y\n",
      "    \n",
      "    \n",
      "    def iterate(self):\n",
      "        did_hit = self.update_roomba_and_check_for_hit(*self.roomba.move())\n",
      "        if did_hit:\n",
      "            self.roomba.collide()\n",
      "        self.room.clean_square(int(self.current_x), int(self.current_y))\n",
      "        self.iterations += 1\n",
      "        \n",
      "    def report(self):\n",
      "        return self.iterations, self.room.percent_clean()\n",
      "        "
     ],
     "language": "python",
     "metadata": {},
     "outputs": [],
     "prompt_number": 10
    },
    {
     "cell_type": "code",
     "collapsed": false,
     "input": [
      "room = Room(15, 20)\n",
      "roomba = Roomba()\n",
      "simulation = Simulation(room, roomba)"
     ],
     "language": "python",
     "metadata": {},
     "outputs": [],
     "prompt_number": 11
    },
    {
     "cell_type": "code",
     "collapsed": false,
     "input": [
      "for _ in range(20):\n",
      "    simulation.iterate()\n",
      "    print(simulation.report())"
     ],
     "language": "python",
     "metadata": {},
     "outputs": [
      {
       "output_type": "stream",
       "stream": "stdout",
       "text": [
        "(1, 0.0033333333333333335)\n",
        "(2, 0.006666666666666667)\n",
        "(3, 0.01)\n",
        "(4, 0.013333333333333334)\n",
        "(5, 0.016666666666666666)\n",
        "(6, 0.02)\n",
        "(7, 0.023333333333333334)\n",
        "(8, 0.023333333333333334)\n",
        "(9, 0.02666666666666667)\n",
        "(10, 0.03)\n",
        "(11, 0.03333333333333333)\n",
        "(12, 0.03666666666666667)\n",
        "(13, 0.03666666666666667)\n",
        "(14, 0.03666666666666667)\n",
        "(15, 0.03666666666666667)\n",
        "(16, 0.03666666666666667)\n",
        "(17, 0.03666666666666667)\n",
        "(18, 0.03666666666666667)\n",
        "(19, 0.03666666666666667)\n",
        "(20, 0.03666666666666667)\n"
       ]
      }
     ],
     "prompt_number": 12
    },
    {
     "cell_type": "code",
     "collapsed": false,
     "input": [
      "simulation.room.clean_squares"
     ],
     "language": "python",
     "metadata": {},
     "outputs": [
      {
       "metadata": {},
       "output_type": "pyout",
       "prompt_number": 13,
       "text": [
        "{(9, 0),\n",
        " (10, 0),\n",
        " (10, 1),\n",
        " (11, 0),\n",
        " (11, 1),\n",
        " (12, 0),\n",
        " (12, 2),\n",
        " (13, 0),\n",
        " (13, 2),\n",
        " (13, 3),\n",
        " (14, 0)}"
       ]
      }
     ],
     "prompt_number": 13
    },
    {
     "cell_type": "code",
     "collapsed": false,
     "input": [
      "room = Room(15, 20)\n",
      "roomba = Roomba()\n",
      "simulation = Simulation(room, roomba)\n",
      "\n",
      "percent_clean = 0\n",
      "while percent_clean < 0.9:\n",
      "    simulation.iterate()\n",
      "    turn, percent_clean = simulation.report()\n",
      "    \n",
      "print(turn)"
     ],
     "language": "python",
     "metadata": {},
     "outputs": [
      {
       "output_type": "stream",
       "stream": "stdout",
       "text": [
        "821\n"
       ]
      }
     ],
     "prompt_number": 14
    },
    {
     "cell_type": "code",
     "collapsed": false,
     "input": [
      "def run_simulation_by_percentage(room, roomba):\n",
      "    simulation = Simulation(room, roomba)\n",
      "    \n",
      "    percent_clean = 0\n",
      "    \n",
      "    while percent_clean < 0.5:\n",
      "       simulation.iterate()\n",
      "       turn, percent_clean = simulation.report() \n",
      "        \n",
      "    half_clean = turn\n",
      "    \n",
      "    while percent_clean < 0.9:\n",
      "       simulation.iterate()\n",
      "       turn, percent_clean = simulation.report() \n",
      "        \n",
      "    almost_clean = turn\n",
      "    \n",
      "    while percent_clean < 1.0:\n",
      "       simulation.iterate()\n",
      "       turn, percent_clean = simulation.report() \n",
      "    \n",
      "    clean = turn\n",
      "    \n",
      "    room.reset()\n",
      "    \n",
      "    return half_clean, almost_clean, clean"
     ],
     "language": "python",
     "metadata": {},
     "outputs": [],
     "prompt_number": 15
    },
    {
     "cell_type": "code",
     "collapsed": false,
     "input": [
      "run_simulation_by_percentage(Room(15, 20), Roomba())"
     ],
     "language": "python",
     "metadata": {},
     "outputs": [
      {
       "metadata": {},
       "output_type": "pyout",
       "prompt_number": 16,
       "text": [
        "(216, 778, 1880)"
       ]
      }
     ],
     "prompt_number": 16
    },
    {
     "cell_type": "code",
     "collapsed": false,
     "input": [
      "def run_simulation_by_percentage_trials(room, roomba, trials=100):\n",
      "    trial_results = [run_simulation_by_percentage(room, roomba) for _ in range(trials)]\n",
      "    return trial_results"
     ],
     "language": "python",
     "metadata": {},
     "outputs": [],
     "prompt_number": 17
    },
    {
     "cell_type": "code",
     "collapsed": false,
     "input": [
      "trial_results = run_simulation_by_percentage_trials(Room(15, 20), Roomba(), 100)\n",
      "results_to_plot = list(zip(*trial_results))\n",
      "plt.boxplot(results_to_plot)\n",
      "plt.xticks(range(1, 4), [\"50%\", \"90%\", \"100%\"])\n",
      "# plt.yscale(\"log\")\n",
      "plt.show()"
     ],
     "language": "python",
     "metadata": {},
     "outputs": [
      {
       "metadata": {},
       "output_type": "display_data",
       "png": "[encoded data removed]",
       "text": [
        "<matplotlib.figure.Figure at 0x106d4dbe0>"
       ]
      }
     ],
     "prompt_number": 18
    },
    {
     "cell_type": "code",
     "collapsed": false,
     "input": [
      "results_to_plot = list(zip(*trial_results))\n",
      "plt.hist(results_to_plot[0], bins=20)\n",
      "plt.title(\"Time to 50%\")\n",
      "plt.show()"
     ],
     "language": "python",
     "metadata": {},
     "outputs": [
      {
       "metadata": {},
       "output_type": "display_data",
       "png": "[encoded data removed]",
       "text": [
        "<matplotlib.figure.Figure at 0x106d36080>"
       ]
      }
     ],
     "prompt_number": 19
    },
    {
     "cell_type": "code",
     "collapsed": false,
     "input": [
      "plt.hist(results_to_plot[1], bins=20)\n",
      "plt.title(\"Time to 90%\")\n",
      "plt.show()"
     ],
     "language": "python",
     "metadata": {},
     "outputs": [
      {
       "metadata": {},
       "output_type": "display_data",
       "png": "[encoded data removed]",
       "text": [
        "<matplotlib.figure.Figure at 0x106d361d0>"
       ]
      }
     ],
     "prompt_number": 20
    },
    {
     "cell_type": "code",
     "collapsed": false,
     "input": [
      "print(st.mean(results_to_plot[1]))\n",
      "print(st.pstdev(results_to_plot[1]))"
     ],
     "language": "python",
     "metadata": {},
     "outputs": [
      {
       "output_type": "stream",
       "stream": "stdout",
       "text": [
        "780.26\n",
        "69.19069590631388\n"
       ]
      }
     ],
     "prompt_number": 21
    },
    {
     "cell_type": "code",
     "collapsed": false,
     "input": [
      "class GordonRoomba(Roomba):\n",
      "   def collide(self):\n",
      "        \"\"\"On trigger, choose a new angle.\"\"\"\n",
      "        self.update_angle(random.randint(110, 250))"
     ],
     "language": "python",
     "metadata": {},
     "outputs": [],
     "prompt_number": 22
    },
    {
     "cell_type": "code",
     "collapsed": false,
     "input": [
      "class DanielRoomba(Roomba):\n",
      "    def move(self):\n",
      "        \"\"\"On trigger, return relative x and y movement.\"\"\"\n",
      "        if self.angle is not None:\n",
      "            self.update_angle(5)\n",
      "            return angular_motion(self.angle, self.speed)"
     ],
     "language": "python",
     "metadata": {},
     "outputs": [],
     "prompt_number": 23
    },
    {
     "cell_type": "code",
     "collapsed": false,
     "input": [
      "gordon_results = run_simulation_by_percentage_trials(Room(15, 20), GordonRoomba())\n",
      "gresults_to_plot = list(zip(*gordon_results))\n",
      "print(st.mean(gresults_to_plot[1]))\n",
      "print(st.pstdev(gresults_to_plot[1]))"
     ],
     "language": "python",
     "metadata": {},
     "outputs": [
      {
       "output_type": "stream",
       "stream": "stdout",
       "text": [
        "798.33\n",
        "94.04446342023543\n"
       ]
      }
     ],
     "prompt_number": 24
    },
    {
     "cell_type": "code",
     "collapsed": false,
     "input": [
      "daniel_results = run_simulation_by_percentage_trials(Room(15, 20), DanielRoomba())\n",
      "dresults_to_plot = list(zip(*daniel_results))\n",
      "print(st.mean(dresults_to_plot[1]))\n",
      "print(st.pstdev(dresults_to_plot[1]))"
     ],
     "language": "python",
     "metadata": {},
     "outputs": [
      {
       "output_type": "stream",
       "stream": "stdout",
       "text": [
        "776.74\n",
        "66.92198741818716\n"
       ]
      }
     ],
     "prompt_number": 25
    },
    {
     "cell_type": "code",
     "collapsed": false,
     "input": [
      "class ClintonRoomba(Roomba):\n",
      "#     def move(self):\n",
      "#         \"\"\"On trigger, return relative x and y movement.\"\"\"\n",
      "#         if self.angle is not None:\n",
      "#             if random.random() < 0.3:\n",
      "#                 self.update_angle(random.randint(0, 359))\n",
      "#             return angular_motion(self.angle, self.speed)\n",
      "    def collide(self):\n",
      "        self.update_angle(random.choice([45, 90, 225, 270]))\n",
      "        "
     ],
     "language": "python",
     "metadata": {},
     "outputs": [],
     "prompt_number": 50
    },
    {
     "cell_type": "code",
     "collapsed": false,
     "input": [
      "clinton_results = run_simulation_by_percentage_trials(Room(15, 20), ClintonRoomba())\n",
      "cresults_to_plot = list(zip(*clinton_results))\n",
      "print(st.mean(cresults_to_plot[1]))\n",
      "print(st.pstdev(cresults_to_plot[1]))"
     ],
     "language": "python",
     "metadata": {},
     "outputs": [
      {
       "output_type": "stream",
       "stream": "stdout",
       "text": [
        "957.66\n",
        "195.6799029026742\n"
       ]
      }
     ],
     "prompt_number": 51
    },
    {
     "cell_type": "code",
     "collapsed": false,
     "input": [
      "original = [st.mean(results) for results in results_to_plot]\n",
      "gordon = [st.mean(results) for results in gresults_to_plot]\n",
      "daniel = [st.mean(results) for results in dresults_to_plot]\n",
      "clinton = [st.mean(results) for results in cresults_to_plot]"
     ],
     "language": "python",
     "metadata": {},
     "outputs": [],
     "prompt_number": 52
    },
    {
     "cell_type": "code",
     "collapsed": false,
     "input": [
      "plt.plot([50, 90, 100], list(zip(original, gordon, daniel, clinton)))\n",
      "plt.legend()\n",
      "plt.show()"
     ],
     "language": "python",
     "metadata": {},
     "outputs": [
      {
       "metadata": {},
       "output_type": "display_data",
       "png": "[encoded data removed]",
       "text": [
        "<matplotlib.figure.Figure at 0x107311160>"
       ]
      }
     ],
     "prompt_number": 53
    },
    {
     "cell_type": "code",
     "collapsed": false,
     "input": [],
     "language": "python",
     "metadata": {},
     "outputs": [
      {
       "ename": "NameError",
       "evalue": "name 'arange' is not defined",
       "output_type": "pyerr",
       "traceback": [
        "\u001b[0;31m---------------------------------------------------------------------------\u001b[0m\n\u001b[0;31mNameError\u001b[0m                                 Traceback (most recent call last)",
        "\u001b[0;32m<ipython-input-31-972f9961184a>\u001b[0m in \u001b[0;36m<module>\u001b[0;34m()\u001b[0m\n\u001b[0;32m----> 1\u001b[0;31m \u001b[0marange\u001b[0m\u001b[0;34m(\u001b[0m\u001b[0;36m5\u001b[0m\u001b[0;34m)\u001b[0m\u001b[0;34m\u001b[0m\u001b[0m\n\u001b[0m",
        "\u001b[0;31mNameError\u001b[0m: name 'arange' is not defined"
       ]
      }
     ],
     "prompt_number": 31
    },
    {
     "cell_type": "code",
     "collapsed": false,
     "input": [],
     "language": "python",
     "metadata": {},
     "outputs": []
    }
   ],
   "metadata": {}
  }
 ]
}